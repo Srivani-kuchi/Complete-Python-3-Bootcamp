{
  "nbformat": 4,
  "nbformat_minor": 0,
  "metadata": {
    "colab": {
      "name": "FileManagement.pynb",
      "provenance": [],
      "collapsed_sections": [],
      "authorship_tag": "ABX9TyPWPApNj0bGD3drbduDGvIm",
      "include_colab_link": true
    },
    "kernelspec": {
      "name": "python3",
      "display_name": "Python 3"
    },
    "language_info": {
      "name": "python"
    }
  },
  "cells": [
    {
      "cell_type": "markdown",
      "metadata": {
        "id": "view-in-github",
        "colab_type": "text"
      },
      "source": [
        "<a href=\"https://colab.research.google.com/github/Srivani-kuchi/Complete-Python-3-Bootcamp/blob/master/FileManagement_pynb.ipynb\" target=\"_parent\"><img src=\"https://colab.research.google.com/assets/colab-badge.svg\" alt=\"Open In Colab\"/></a>"
      ]
    },
    {
      "cell_type": "code",
      "execution_count": null,
      "metadata": {
        "id": "wXktOIAgwwcT"
      },
      "outputs": [],
      "source": [
        "import json"
      ]
    },
    {
      "cell_type": "code",
      "source": [
        "var = {\n",
        "    \"Subjects\":{\n",
        "        \"Maths\": 95,\n",
        "        \"Science\": 99\n",
        "    }\n",
        "}"
      ],
      "metadata": {
        "id": "FoxQfG8axU4n"
      },
      "execution_count": null,
      "outputs": []
    },
    {
      "cell_type": "code",
      "source": [
        "print(json.dumps(var))"
      ],
      "metadata": {
        "colab": {
          "base_uri": "https://localhost:8080/"
        },
        "id": "CaUC3E_Rw7eO",
        "outputId": "1e6d1eb6-5bc2-48b2-ca0d-60f70da43076"
      },
      "execution_count": null,
      "outputs": [
        {
          "output_type": "stream",
          "name": "stdout",
          "text": [
            "{\"Subjects\": {\"Maths\": 95, \"Science\": 99}}\n"
          ]
        }
      ]
    },
    {
      "cell_type": "code",
      "source": [
        "with open(\"SampleSubjects.json\", \"w\") as learningJson:\n",
        "  json.dump(var,learningJson)\n"
      ],
      "metadata": {
        "id": "sc0NFfTWxe-l"
      },
      "execution_count": null,
      "outputs": []
    },
    {
      "cell_type": "code",
      "source": [
        "class ContextManager():\n",
        "  def __init__(self) -> None:\n",
        "      print(\"init method called\")\n",
        "  def __enter__(self):\n",
        "    print(\"enter method called\")\n",
        "    return self\n",
        "  def __exit__(self, exc_type, exc_value,exc_traceback):\n",
        "    print(\"exit method called\")\n",
        "\n",
        "with ContextManager() as Manager:\n",
        "  print(\"with statement block\")"
      ],
      "metadata": {
        "colab": {
          "base_uri": "https://localhost:8080/"
        },
        "id": "6tuu63dHx0Af",
        "outputId": "a4c54a12-8dc7-495d-92fb-5f2a8788e902"
      },
      "execution_count": null,
      "outputs": [
        {
          "output_type": "stream",
          "name": "stdout",
          "text": [
            "init method called\n",
            "enter method called\n",
            "with statement block\n",
            "exit method called\n"
          ]
        }
      ]
    },
    {
      "cell_type": "code",
      "source": [
        "class FileManager():\n",
        "  def __init__(self,filename,mode):\n",
        "    self.filename = filename\n",
        "    self.mode = mode\n",
        "    self.file = None\n",
        "  def __enter__(self):\n",
        "    self.file = open(self.filename,self.mode)\n",
        "    return self.file\n",
        "\n",
        "\n",
        "  def __exit__(self, exc_type,exc_value,exc_traceback):\n",
        "    self.file.close()\n",
        "#loading a file\n",
        "with FileManager(\"test.txt\", \"w\") as fm:\n",
        "  fm.write(\"Test\")\n",
        "\n",
        "print(fm.closed)\n",
        "\n"
      ],
      "metadata": {
        "colab": {
          "base_uri": "https://localhost:8080/"
        },
        "id": "sjeeW0zGCI8P",
        "outputId": "f5e1a0f9-3b49-4861-af2c-1177ea8c46b7"
      },
      "execution_count": null,
      "outputs": [
        {
          "output_type": "stream",
          "name": "stdout",
          "text": [
            "True\n"
          ]
        }
      ]
    },
    {
      "cell_type": "code",
      "source": [
        ""
      ],
      "metadata": {
        "id": "_H_hTIsGLaja"
      },
      "execution_count": null,
      "outputs": []
    }
  ]
}