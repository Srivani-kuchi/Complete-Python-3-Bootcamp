{
  "nbformat": 4,
  "nbformat_minor": 0,
  "metadata": {
    "colab": {
      "name": "Python_loops.ipynb",
      "provenance": [],
      "authorship_tag": "ABX9TyOU02oeqL8qsMzYrPBvozX0",
      "include_colab_link": true
    },
    "kernelspec": {
      "name": "python3",
      "display_name": "Python 3"
    },
    "language_info": {
      "name": "python"
    }
  },
  "cells": [
    {
      "cell_type": "markdown",
      "metadata": {
        "id": "view-in-github",
        "colab_type": "text"
      },
      "source": [
        "<a href=\"https://colab.research.google.com/github/Srivani-kuchi/Complete-Python-3-Bootcamp/blob/master/Python_loops.ipynb\" target=\"_parent\"><img src=\"https://colab.research.google.com/assets/colab-badge.svg\" alt=\"Open In Colab\"/></a>"
      ]
    },
    {
      "cell_type": "code",
      "source": [
        "hungry = True\n",
        "if hungry:\n",
        "  print(\"Feed me\")\n",
        "else:\n",
        "  print(\"not hungry\")"
      ],
      "metadata": {
        "colab": {
          "base_uri": "https://localhost:8080/"
        },
        "id": "y5ewvGFYRsCJ",
        "outputId": "f6b0bffc-c8ff-4ef4-d5f6-f9825bcaa87c"
      },
      "execution_count": null,
      "outputs": [
        {
          "output_type": "stream",
          "name": "stdout",
          "text": [
            "Feed me\n"
          ]
        }
      ]
    },
    {
      "cell_type": "code",
      "source": [
        "loc = 'Game'\n",
        "\n",
        "if loc == 'Auto Shop':\n",
        "  print('cool')\n",
        "elif loc == 'Bank':\n",
        "  print('Money is cool')\n",
        "else:\n",
        "  print('nothing')"
      ],
      "metadata": {
        "colab": {
          "base_uri": "https://localhost:8080/"
        },
        "id": "beEvGc0lTMzH",
        "outputId": "0028fa77-7b31-44e2-910c-360d13761301"
      },
      "execution_count": null,
      "outputs": [
        {
          "output_type": "stream",
          "name": "stdout",
          "text": [
            "nothing\n"
          ]
        }
      ]
    },
    {
      "cell_type": "code",
      "source": [
        "listt = [1,2,3,4,5,6,7,8,9,10]"
      ],
      "metadata": {
        "id": "jdFsoYScTy58"
      },
      "execution_count": null,
      "outputs": []
    },
    {
      "cell_type": "code",
      "source": [
        "for item in listt:\n",
        "  if item%2 == 0:\n",
        "    print(item)\n",
        "  else:\n",
        "    print(f'odd: {item}')"
      ],
      "metadata": {
        "colab": {
          "base_uri": "https://localhost:8080/"
        },
        "id": "Luo-QVpJU2_4",
        "outputId": "e696a372-4480-4d85-98fe-8e8648a71354"
      },
      "execution_count": null,
      "outputs": [
        {
          "output_type": "stream",
          "name": "stdout",
          "text": [
            "odd: 1\n",
            "2\n",
            "odd: 3\n",
            "4\n",
            "odd: 5\n",
            "6\n",
            "odd: 7\n",
            "8\n",
            "odd: 9\n",
            "10\n"
          ]
        }
      ]
    },
    {
      "cell_type": "code",
      "source": [
        "sum = 0\n",
        "for num in listt:\n",
        "  sum += num\n",
        "  print(sum)"
      ],
      "metadata": {
        "colab": {
          "base_uri": "https://localhost:8080/"
        },
        "id": "PejgxL7UU74F",
        "outputId": "7a22ad86-c095-4333-fd34-80b51ed4ac24"
      },
      "execution_count": null,
      "outputs": [
        {
          "output_type": "stream",
          "name": "stdout",
          "text": [
            "1\n",
            "3\n",
            "6\n",
            "10\n",
            "15\n",
            "21\n",
            "28\n",
            "36\n",
            "45\n",
            "55\n"
          ]
        }
      ]
    },
    {
      "cell_type": "code",
      "source": [
        "\n",
        "for _ in 'hello coder':\n",
        "  print('cool')"
      ],
      "metadata": {
        "colab": {
          "base_uri": "https://localhost:8080/"
        },
        "id": "tgJ4VTK-V8Ey",
        "outputId": "3f51923e-b711-4a5d-9bb3-be347639c02a"
      },
      "execution_count": null,
      "outputs": [
        {
          "output_type": "stream",
          "name": "stdout",
          "text": [
            "cool\n",
            "cool\n",
            "cool\n",
            "cool\n",
            "cool\n",
            "cool\n",
            "cool\n",
            "cool\n",
            "cool\n",
            "cool\n",
            "cool\n"
          ]
        }
      ]
    },
    {
      "cell_type": "code",
      "source": [
        "tup = (1,2,3)\n",
        "\n",
        "for item in tup:\n",
        "  print(item)"
      ],
      "metadata": {
        "colab": {
          "base_uri": "https://localhost:8080/"
        },
        "id": "fJzR4SVRWPj8",
        "outputId": "45cf98e5-1995-44ef-f255-734227ea7f33"
      },
      "execution_count": null,
      "outputs": [
        {
          "output_type": "stream",
          "name": "stdout",
          "text": [
            "1\n",
            "2\n",
            "3\n"
          ]
        }
      ]
    },
    {
      "cell_type": "markdown",
      "source": [
        "tuple unpacking"
      ],
      "metadata": {
        "id": "_zvNuiYJW8Sb"
      }
    },
    {
      "cell_type": "code",
      "source": [
        "listOftups = [(1,2),(3,4),(5,6),(7,8)]\n",
        "\n",
        "for item in listOftups:\n",
        "  print(item)"
      ],
      "metadata": {
        "colab": {
          "base_uri": "https://localhost:8080/"
        },
        "id": "CDpXPiBYW1jp",
        "outputId": "e4fa2d06-b351-4970-ee79-1402f63819fb"
      },
      "execution_count": null,
      "outputs": [
        {
          "output_type": "stream",
          "name": "stdout",
          "text": [
            "(1, 2)\n",
            "(3, 4)\n",
            "(5, 6)\n",
            "(7, 8)\n"
          ]
        }
      ]
    },
    {
      "cell_type": "code",
      "source": [
        "listOftups = [(1,2),(3,4),(5,6),(7,8)]\n",
        "\n",
        "for a,b in listOftups:\n",
        "  print(a)\n",
        "  "
      ],
      "metadata": {
        "colab": {
          "base_uri": "https://localhost:8080/"
        },
        "id": "H8raz7dSXRN7",
        "outputId": "cee56c1d-de5b-49bb-81b8-e823203d747c"
      },
      "execution_count": null,
      "outputs": [
        {
          "output_type": "stream",
          "name": "stdout",
          "text": [
            "1\n",
            "3\n",
            "5\n",
            "7\n"
          ]
        }
      ]
    },
    {
      "cell_type": "code",
      "source": [
        "dic = {'k1':1, 'k2':2, 'k3': 3}\n",
        "for item in dic:\n",
        "  print(dic[item])\n"
      ],
      "metadata": {
        "colab": {
          "base_uri": "https://localhost:8080/"
        },
        "id": "ZWZtkKw0XoJp",
        "outputId": "ef5ee11c-120d-4d5c-d247-0d04b633d205"
      },
      "execution_count": null,
      "outputs": [
        {
          "output_type": "stream",
          "name": "stdout",
          "text": [
            "1\n",
            "2\n",
            "3\n"
          ]
        }
      ]
    },
    {
      "cell_type": "code",
      "source": [
        "dic = {'k1':1, 'k2':2, 'k3': 3}\n",
        "for item in dic.items():\n",
        "  print(item)"
      ],
      "metadata": {
        "colab": {
          "base_uri": "https://localhost:8080/"
        },
        "id": "Fu9IwUhJY4Ke",
        "outputId": "d204257c-9736-40e1-b0b3-f562b02a4faf"
      },
      "execution_count": null,
      "outputs": [
        {
          "output_type": "stream",
          "name": "stdout",
          "text": [
            "('k1', 1)\n",
            "('k2', 2)\n",
            "('k3', 3)\n"
          ]
        }
      ]
    },
    {
      "cell_type": "code",
      "source": [
        "dic = {'k1':1, 'k2':2, 'k3': 3}\n",
        "for k,v in dic.items():\n",
        "  print(k)"
      ],
      "metadata": {
        "colab": {
          "base_uri": "https://localhost:8080/"
        },
        "id": "Vil0IoZbZd5m",
        "outputId": "798e90b3-7645-4da1-95be-42fecf522579"
      },
      "execution_count": null,
      "outputs": [
        {
          "output_type": "stream",
          "name": "stdout",
          "text": [
            "k1\n",
            "k2\n",
            "k3\n"
          ]
        }
      ]
    },
    {
      "cell_type": "code",
      "source": [
        "dic = {'k1':1, 'k2':2, 'k3': 3}\n",
        "for value in dic.values():\n",
        "  print(value)"
      ],
      "metadata": {
        "colab": {
          "base_uri": "https://localhost:8080/"
        },
        "id": "rMowbtGuZo63",
        "outputId": "6319264c-3790-470a-e165-beb25b655133"
      },
      "execution_count": null,
      "outputs": [
        {
          "output_type": "stream",
          "name": "stdout",
          "text": [
            "1\n",
            "2\n",
            "3\n"
          ]
        }
      ]
    },
    {
      "cell_type": "code",
      "source": [
        "x = 50\n",
        "while x < 5:\n",
        "  print(f'The current value of x is {x}')\n",
        "  x = x+1\n",
        "else:\n",
        "  print('x is not less than 5')"
      ],
      "metadata": {
        "colab": {
          "base_uri": "https://localhost:8080/"
        },
        "id": "A5gEiPAf7Wav",
        "outputId": "825eb49c-35c5-45b9-b9d8-d111b364ab5e"
      },
      "execution_count": 7,
      "outputs": [
        {
          "output_type": "stream",
          "name": "stdout",
          "text": [
            "x is not less than 5\n"
          ]
        }
      ]
    },
    {
      "cell_type": "code",
      "source": [
        "x = [1,2,3]\n",
        "\n",
        "for item in x:\n",
        "  pass\n",
        "\n",
        "print('end of script')"
      ],
      "metadata": {
        "colab": {
          "base_uri": "https://localhost:8080/"
        },
        "id": "K1MW-ECR7b2r",
        "outputId": "283f4b7a-591b-40c6-f6bd-fddf4d81a8c7"
      },
      "execution_count": 8,
      "outputs": [
        {
          "output_type": "stream",
          "name": "stdout",
          "text": [
            "end of script\n"
          ]
        }
      ]
    },
    {
      "cell_type": "code",
      "source": [
        "mystring = 'code'\n",
        "\n",
        "for letter in mystring:\n",
        "  if letter == 'o':\n",
        "    break\n",
        "  print(letter)\n"
      ],
      "metadata": {
        "colab": {
          "base_uri": "https://localhost:8080/"
        },
        "id": "NIq7SgL99D73",
        "outputId": "19fe47ae-4ae8-4c43-c8d2-ef0dc651a043"
      },
      "execution_count": 10,
      "outputs": [
        {
          "output_type": "stream",
          "name": "stdout",
          "text": [
            "c\n"
          ]
        }
      ]
    },
    {
      "cell_type": "code",
      "source": [
        "x = 0\n",
        "while x < 5:\n",
        "  if x == 2:\n",
        "    break\n",
        "  print(x)\n",
        "  x = x + 1"
      ],
      "metadata": {
        "colab": {
          "base_uri": "https://localhost:8080/"
        },
        "id": "Pf6c-egx9fq5",
        "outputId": "70df7668-52e6-415b-8347-d1dc23a7096f"
      },
      "execution_count": 13,
      "outputs": [
        {
          "output_type": "stream",
          "name": "stdout",
          "text": [
            "0\n",
            "1\n"
          ]
        }
      ]
    },
    {
      "cell_type": "code",
      "source": [
        "listk = [1,2,3]\n",
        "\n",
        "for num in range(0,11,2):\n",
        "  print(num)"
      ],
      "metadata": {
        "colab": {
          "base_uri": "https://localhost:8080/"
        },
        "id": "TQgGYbRG9tSW",
        "outputId": "e1581ae4-cc4d-4999-e880-25a4729d29b7"
      },
      "execution_count": 18,
      "outputs": [
        {
          "output_type": "stream",
          "name": "stdout",
          "text": [
            "0\n",
            "2\n",
            "4\n",
            "6\n",
            "8\n",
            "10\n"
          ]
        }
      ]
    },
    {
      "cell_type": "code",
      "source": [
        "list(range(0,11,2))"
      ],
      "metadata": {
        "colab": {
          "base_uri": "https://localhost:8080/"
        },
        "id": "OewdYqY0-VbZ",
        "outputId": "1149eb5a-3044-47c1-eb5b-07f148e50d49"
      },
      "execution_count": 19,
      "outputs": [
        {
          "output_type": "execute_result",
          "data": {
            "text/plain": [
              "[0, 2, 4, 6, 8, 10]"
            ]
          },
          "metadata": {},
          "execution_count": 19
        }
      ]
    },
    {
      "cell_type": "code",
      "source": [
        "count = 0\n",
        "\n",
        "for letter in 'abcde':\n",
        "  print('At index {} the letter is {}'.format(count,letter))\n",
        "  count +=1"
      ],
      "metadata": {
        "colab": {
          "base_uri": "https://localhost:8080/"
        },
        "id": "ToQDISer-mgx",
        "outputId": "92d3970d-1bbc-41ab-d7b0-8676af27fe2e"
      },
      "execution_count": 20,
      "outputs": [
        {
          "output_type": "stream",
          "name": "stdout",
          "text": [
            "At index 0 the letter is a\n",
            "At index 1 the letter is b\n",
            "At index 2 the letter is c\n",
            "At index 3 the letter is d\n",
            "At index 4 the letter is e\n"
          ]
        }
      ]
    },
    {
      "cell_type": "code",
      "source": [
        "count = 0\n",
        "word = 'code'\n",
        "\n",
        "for char in word:\n",
        "  print(word[count])\n",
        "  count += 1"
      ],
      "metadata": {
        "colab": {
          "base_uri": "https://localhost:8080/"
        },
        "id": "Bxpz3z-Q_N_B",
        "outputId": "c7199ed5-33a4-4f03-f214-790e03703d43"
      },
      "execution_count": 22,
      "outputs": [
        {
          "output_type": "stream",
          "name": "stdout",
          "text": [
            "c\n",
            "o\n",
            "d\n",
            "e\n"
          ]
        }
      ]
    },
    {
      "cell_type": "code",
      "source": [
        "word = 'code' # same func using enumerator, which does the index count automatically\n",
        "\n",
        "for index,letter in enumerate(word):\n",
        "  print(index)\n",
        "  print(letter)\n",
        "  print('\\n')"
      ],
      "metadata": {
        "colab": {
          "base_uri": "https://localhost:8080/"
        },
        "id": "ht84jH49_oRO",
        "outputId": "19495799-0a9f-4b8c-f4b3-1e9879cbe1fc"
      },
      "execution_count": 27,
      "outputs": [
        {
          "output_type": "stream",
          "name": "stdout",
          "text": [
            "0\n",
            "c\n",
            "\n",
            "\n",
            "1\n",
            "o\n",
            "\n",
            "\n",
            "2\n",
            "d\n",
            "\n",
            "\n",
            "3\n",
            "e\n",
            "\n",
            "\n"
          ]
        }
      ]
    },
    {
      "cell_type": "code",
      "source": [
        "numList = [1,2,3,4,5] # zips list\n",
        "letterList = ['a','b','c']\n",
        "bignum=[100,200]\n",
        "\n",
        "for item in zip(numList,letterList,bignum):\n",
        "  print(item)"
      ],
      "metadata": {
        "colab": {
          "base_uri": "https://localhost:8080/"
        },
        "id": "b0Mf_-yH_768",
        "outputId": "3211dd0e-5a4c-4cbc-e9b7-d040afc16e9b"
      },
      "execution_count": 30,
      "outputs": [
        {
          "output_type": "stream",
          "name": "stdout",
          "text": [
            "(1, 'a', 100)\n",
            "(2, 'b', 200)\n"
          ]
        }
      ]
    },
    {
      "cell_type": "code",
      "source": [
        "# in operator, works for int, str,dict \n",
        "\n",
        "2 in [2,4,5]"
      ],
      "metadata": {
        "colab": {
          "base_uri": "https://localhost:8080/"
        },
        "id": "opuJNuQ4CdfT",
        "outputId": "aec0dbff-ab85-4009-e172-9e9ea7395a26"
      },
      "execution_count": 31,
      "outputs": [
        {
          "output_type": "execute_result",
          "data": {
            "text/plain": [
              "True"
            ]
          },
          "metadata": {},
          "execution_count": 31
        }
      ]
    },
    {
      "cell_type": "code",
      "source": [
        "d = {'mykey':345}\n",
        "\n",
        "345 in d.values()"
      ],
      "metadata": {
        "colab": {
          "base_uri": "https://localhost:8080/"
        },
        "id": "knKXIO5CC-YX",
        "outputId": "44ea06bc-b33c-4634-fc46-880b9a98a60a"
      },
      "execution_count": 34,
      "outputs": [
        {
          "output_type": "execute_result",
          "data": {
            "text/plain": [
              "True"
            ]
          },
          "metadata": {},
          "execution_count": 34
        }
      ]
    },
    {
      "cell_type": "code",
      "source": [
        "# random \n",
        "\n",
        "from random import shuffle\n",
        "l1 = [3,4,5,6,7,8,9]\n",
        "shuffle(l1) #none type returns nothing "
      ],
      "metadata": {
        "id": "G5Ne11E2DOxT"
      },
      "execution_count": 38,
      "outputs": []
    },
    {
      "cell_type": "code",
      "source": [
        "l1"
      ],
      "metadata": {
        "colab": {
          "base_uri": "https://localhost:8080/"
        },
        "id": "HIWhenjUDnvJ",
        "outputId": "7ebdb794-8e1b-4de1-f940-96c048cb8993"
      },
      "execution_count": 39,
      "outputs": [
        {
          "output_type": "execute_result",
          "data": {
            "text/plain": [
              "[5, 6, 3, 7, 8, 9, 4]"
            ]
          },
          "metadata": {},
          "execution_count": 39
        }
      ]
    },
    {
      "cell_type": "code",
      "source": [
        "from random import randint\n",
        "\n",
        "num = randint(0,18)"
      ],
      "metadata": {
        "id": "gSQ_AjLND5iD"
      },
      "execution_count": 41,
      "outputs": []
    },
    {
      "cell_type": "code",
      "source": [
        "num"
      ],
      "metadata": {
        "colab": {
          "base_uri": "https://localhost:8080/"
        },
        "id": "1yWwEbUVEHsM",
        "outputId": "f7567eb3-552d-4066-bb26-1bec296b7205"
      },
      "execution_count": 42,
      "outputs": [
        {
          "output_type": "execute_result",
          "data": {
            "text/plain": [
              "13"
            ]
          },
          "metadata": {},
          "execution_count": 42
        }
      ]
    },
    {
      "cell_type": "code",
      "source": [
        ""
      ],
      "metadata": {
        "id": "SWNGTL_kELLD"
      },
      "execution_count": null,
      "outputs": []
    }
  ]
}